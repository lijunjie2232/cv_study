{
 "cells": [
  {
   "cell_type": "code",
   "execution_count": 1,
   "metadata": {},
   "outputs": [],
   "source": [
    "from utils import *"
   ]
  },
  {
   "cell_type": "code",
   "execution_count": 2,
   "metadata": {},
   "outputs": [],
   "source": [
    "# img = readImage('./input/vtest.png')\n",
    "# showImage(img)"
   ]
  },
  {
   "cell_type": "code",
   "execution_count": 3,
   "metadata": {},
   "outputs": [
    {
     "data": {
      "text/plain": [
       "True"
      ]
     },
     "execution_count": 3,
     "metadata": {},
     "output_type": "execute_result"
    }
   ],
   "source": [
    "vtestPath = './input/opencv_data/vtest.avi'\n",
    "import os\n",
    "os.path.isfile(vtestPath)"
   ]
  },
  {
   "cell_type": "code",
   "execution_count": 4,
   "metadata": {},
   "outputs": [],
   "source": [
    "backSub_k = cv.createBackgroundSubtractorKNN()\n",
    "backSub_m = cv.createBackgroundSubtractorMOG2()"
   ]
  },
  {
   "cell_type": "code",
   "execution_count": 9,
   "metadata": {},
   "outputs": [],
   "source": [
    "backSub = backSub_m\n",
    "capture = cv.VideoCapture(vtestPath)\n",
    "assert capture.isOpened, 'video %s could not be opened'%vtestPath\n",
    "\n",
    "while True:\n",
    "    _, frame = capture.read()\n",
    "    if frame is None:\n",
    "        break\n",
    "    fgMask = backSub.apply(frame)\n",
    "    cv.rectangle(frame, (10, 2), (100,20), (255,255,255), -1)\n",
    "    cv.putText(frame, str(capture.get(cv.CAP_PROP_POS_FRAMES)), (15, 15),\n",
    "               cv.FONT_HERSHEY_SIMPLEX, 0.5 , (0,0,0))\n",
    "    cv.imshow('frame', frame)\n",
    "    if cv.waitKey(0) == ord(\"q\"):\n",
    "        break\n",
    "    cv.imshow('frame', fgMask)\n",
    "    if cv.waitKey(0) == ord(\"q\"):\n",
    "        break\n",
    "capture.release()\n",
    "cv.destroyAllWindows()"
   ]
  },
  {
   "cell_type": "code",
   "execution_count": 10,
   "metadata": {},
   "outputs": [],
   "source": [
    "backSub = backSub_k\n",
    "capture = cv.VideoCapture(vtestPath)\n",
    "assert capture.isOpened, 'video %s could not be opened'%vtestPath\n",
    "\n",
    "while True:\n",
    "    _, frame = capture.read()\n",
    "    if frame is None:\n",
    "        break\n",
    "    fgMask = backSub.apply(frame)\n",
    "    cv.rectangle(frame, (10, 2), (100,20), (255,255,255), -1)\n",
    "    cv.putText(frame, str(capture.get(cv.CAP_PROP_POS_FRAMES)), (15, 15),\n",
    "               cv.FONT_HERSHEY_SIMPLEX, 0.5 , (0,0,0))\n",
    "    cv.imshow('frame', frame)\n",
    "    if cv.waitKey(0) == ord(\"q\"):\n",
    "        break\n",
    "    cv.imshow('frame', fgMask)\n",
    "    if cv.waitKey(0) == ord(\"q\"):\n",
    "        break\n",
    "capture.release()\n",
    "cv.destroyAllWindows()"
   ]
  }
 ],
 "metadata": {
  "kernelspec": {
   "display_name": "cv",
   "language": "python",
   "name": "python3"
  },
  "language_info": {
   "codemirror_mode": {
    "name": "ipython",
    "version": 3
   },
   "file_extension": ".py",
   "mimetype": "text/x-python",
   "name": "python",
   "nbconvert_exporter": "python",
   "pygments_lexer": "ipython3",
   "version": "3.8.16"
  },
  "orig_nbformat": 4,
  "vscode": {
   "interpreter": {
    "hash": "19c46a0102b4290bd83744c04de3d337d44821c1a861b3f55c480538c3baede0"
   }
  }
 },
 "nbformat": 4,
 "nbformat_minor": 2
}
