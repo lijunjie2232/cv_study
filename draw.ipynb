{
 "cells": [
  {
   "cell_type": "code",
   "execution_count": 1,
   "id": "37b576bf-39e7-45bf-a9e8-60b705e18ada",
   "metadata": {},
   "outputs": [],
   "source": [
    "from utils import *"
   ]
  },
  {
   "cell_type": "code",
   "execution_count": 2,
   "id": "b6a2a12b",
   "metadata": {},
   "outputs": [],
   "source": [
    "import warnings\n",
    "warnings.filterwarnings(\"ignore\")"
   ]
  },
  {
   "cell_type": "code",
   "execution_count": 3,
   "id": "2329a3b6-c555-4837-b7e1-eca11101f174",
   "metadata": {},
   "outputs": [
    {
     "data": {
      "text/plain": [
       "['EVENT_FLAG_ALTKEY',\n",
       " 'EVENT_FLAG_CTRLKEY',\n",
       " 'EVENT_FLAG_LBUTTON',\n",
       " 'EVENT_FLAG_MBUTTON',\n",
       " 'EVENT_FLAG_RBUTTON',\n",
       " 'EVENT_FLAG_SHIFTKEY',\n",
       " 'EVENT_LBUTTONDBLCLK',\n",
       " 'EVENT_LBUTTONDOWN',\n",
       " 'EVENT_LBUTTONUP',\n",
       " 'EVENT_MBUTTONDBLCLK',\n",
       " 'EVENT_MBUTTONDOWN',\n",
       " 'EVENT_MBUTTONUP',\n",
       " 'EVENT_MOUSEHWHEEL',\n",
       " 'EVENT_MOUSEMOVE',\n",
       " 'EVENT_MOUSEWHEEL',\n",
       " 'EVENT_RBUTTONDBLCLK',\n",
       " 'EVENT_RBUTTONDOWN',\n",
       " 'EVENT_RBUTTONUP']"
      ]
     },
     "execution_count": 3,
     "metadata": {},
     "output_type": "execute_result"
    }
   ],
   "source": [
    "[i for i in dir(cv) if 'EVENT' in i]"
   ]
  },
  {
   "cell_type": "code",
   "execution_count": 4,
   "id": "797ee854-e5b7-499f-bd07-3033223f7a4e",
   "metadata": {},
   "outputs": [],
   "source": [
    "def draw_circle(event, x, y, flags, args):\n",
    "    if event == cv.EVENT_LBUTTONUP:\n",
    "        cv.circle(img, (x, y), 50, (253, 121, 168), -1)\n"
   ]
  },
  {
   "cell_type": "code",
   "execution_count": null,
   "id": "f4b39877-6875-4228-bf11-a202feb882d7",
   "metadata": {},
   "outputs": [],
   "source": [
    "img = np.ones((500, 500, 3), np.uint8)*255\n",
    "cv.namedWindow('image')\n",
    "cv.setMouseCallback('image', draw_circle)\n",
    "while(1):\n",
    "    cv.imshow('image',img)\n",
    "    if cv.waitKey(1) == ord('q'):\n",
    "        break\n",
    "cv.destroyAllWindows()"
   ]
  },
  {
   "cell_type": "code",
   "execution_count": 29,
   "id": "b507cba3",
   "metadata": {},
   "outputs": [],
   "source": [
    "def draw_box(event, x, y, flags, param):\n",
    "   global x_0, x_1, y_0, y_1, mode, img_0, img, click_down_ed\n",
    "   if event == cv.EVENT_LBUTTONDOWN:\n",
    "      x_0 = x\n",
    "      y_0 = y\n",
    "      click_down_ed = True\n",
    "   elif event == cv.EVENT_MOUSEMOVE:\n",
    "      if click_down_ed:\n",
    "         x_1 = x\n",
    "         y_1 = y\n",
    "         img = img_0.copy()\n",
    "         if mode == 0:\n",
    "            # cv.rectangle(img, (x_0, y_0), (x_1, y_1), (253, 121, 168), -1)\n",
    "            cv.line(img, (x_0, y_0), (x_0, y_1), (253, 121, 168), 1)\n",
    "            cv.line(img, (x_0, y_1), (x_1, y_1), (253, 121, 168), 1)\n",
    "            cv.line(img, (x_1, y_1), (x_1, y_0), (253, 121, 168), 1)\n",
    "            cv.line(img, (x_1, y_0), (x_0, y_0), (253, 121, 168), 1)\n",
    "      else:\n",
    "         img = img_0.copy()\n",
    "         cv.line(img, (x-5, y), (x+5,y), (253, 121, 168), 1)\n",
    "         cv.line(img, (x, y-5), (x,y+5), (253, 121, 168), 1)\n",
    "   elif event == cv.EVENT_LBUTTONUP:\n",
    "      click_down_ed = False\n",
    "      img_0 = img"
   ]
  },
  {
   "cell_type": "code",
   "execution_count": null,
   "id": "e87851aa",
   "metadata": {},
   "outputs": [],
   "source": [
    "x_0 = 0\n",
    "y_0 = 0\n",
    "x_1 = 0\n",
    "y_1 = 0\n",
    "mode = 0\n",
    "img_0 = np.ones((500, 500, 3), np.uint8)*255\n",
    "img = img_0.copy()\n",
    "click_down_ed = False\n",
    "cv.namedWindow('image')\n",
    "cv.setMouseCallback('image', draw_box)\n",
    "while(1):\n",
    "    cv.imshow('image',img)\n",
    "    if cv.waitKey(1) == ord('q'):\n",
    "        break\n",
    "cv.destroyAllWindows()"
   ]
  }
 ],
 "metadata": {
  "kernelspec": {
   "display_name": "cv",
   "language": "python",
   "name": "python3"
  },
  "language_info": {
   "codemirror_mode": {
    "name": "ipython",
    "version": 3
   },
   "file_extension": ".py",
   "mimetype": "text/x-python",
   "name": "python",
   "nbconvert_exporter": "python",
   "pygments_lexer": "ipython3",
   "version": "3.8.16"
  },
  "vscode": {
   "interpreter": {
    "hash": "19c46a0102b4290bd83744c04de3d337d44821c1a861b3f55c480538c3baede0"
   }
  }
 },
 "nbformat": 4,
 "nbformat_minor": 5
}
