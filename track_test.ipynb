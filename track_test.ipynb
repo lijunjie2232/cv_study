{
 "cells": [
  {
   "cell_type": "code",
   "execution_count": 1,
   "metadata": {},
   "outputs": [],
   "source": [
    "from utils import *"
   ]
  },
  {
   "cell_type": "code",
   "execution_count": 2,
   "metadata": {},
   "outputs": [],
   "source": [
    "vtestPath = './input/opencv_data/vtest.avi'\n",
    "import os\n",
    "assert os.path.exists(vtestPath)"
   ]
  },
  {
   "cell_type": "code",
   "execution_count": 3,
   "metadata": {},
   "outputs": [],
   "source": [
    "capture = cv.VideoCapture(vtestPath)\n",
    "assert capture.isOpened(), 'video %s could not be opened'%vtestPath\n",
    "ret, frame = capture.read()\n"
   ]
  },
  {
   "cell_type": "code",
   "execution_count": 4,
   "metadata": {},
   "outputs": [],
   "source": [
    "from CaptureUtils import *\n",
    "c = CaptureUtils(frame, mode=1, color=(0, 255, 255))\n",
    "rect = c.startCapture()[0]"
   ]
  },
  {
   "cell_type": "code",
   "execution_count": 5,
   "metadata": {},
   "outputs": [
    {
     "data": {
      "text/plain": [
       "(498, 155, 32, 81)"
      ]
     },
     "execution_count": 5,
     "metadata": {},
     "output_type": "execute_result"
    }
   ],
   "source": [
    "rect = np.array(rect)\n",
    "x, y = rect[0]\n",
    "w, h = rect[1]-rect[0]\n",
    "x, y, w, h"
   ]
  },
  {
   "cell_type": "code",
   "execution_count": 6,
   "metadata": {},
   "outputs": [],
   "source": [
    "# 设置初始ROI来追踪\n",
    "roi = frame[y:y+h, x:x+w]\n",
    "hsv_roi =  cv.cvtColor(roi, cv.COLOR_BGR2HSV)\n",
    "mask = cv.inRange(hsv_roi, np.array((0., 60.,32.)), np.array((180.,255.,255.)))\n",
    "roi_hist = cv.calcHist([hsv_roi],[0],mask,[180],[0,180])\n",
    "roi_hist = cv.normalize(roi_hist,0,255,cv.NORM_MINMAX)"
   ]
  },
  {
   "cell_type": "code",
   "execution_count": 7,
   "metadata": {},
   "outputs": [],
   "source": [
    "track_window = (x, y, w, h)\n",
    "# 设置终止条件，可以是10次迭代，也可以至少移动1 pt\n",
    "term_crit = ( cv.TERM_CRITERIA_EPS | cv.TERM_CRITERIA_COUNT, 10, 1 )\n",
    "while(1):\n",
    "    ret, frame = capture.read()\n",
    "    if ret == True:\n",
    "        hsv = cv.cvtColor(frame, cv.COLOR_BGR2HSV)\n",
    "        dst = cv.calcBackProject([hsv],[0],roi_hist,[0,180],1)\n",
    "        # 应用meanshift来获取新位置\n",
    "        ret, track_window = cv.meanShift(dst, track_window, term_crit)\n",
    "        # 在图像上绘制\n",
    "        x,y,w,h = track_window\n",
    "        dest = cv.rectangle(frame, (x,y), (x+w,y+h), 255,2)\n",
    "        cv.imshow('',dest)\n",
    "        k = cv.waitKey(30) & 0xff\n",
    "        if k == 27:\n",
    "            break\n",
    "    else:\n",
    "        break\n",
    "cv.destroyAllWindows()\n",
    "capture.release()"
   ]
  },
  {
   "cell_type": "code",
   "execution_count": 8,
   "metadata": {},
   "outputs": [],
   "source": [
    "capture = cv.VideoCapture(vtestPath)\n",
    "assert capture.isOpened(), 'video %s could not be opened'%vtestPath\n",
    "ret, frame = capture.read()\n",
    "x, y = rect[0]\n",
    "w, h = rect[1]-rect[0]\n",
    "x, y, w, h\n",
    "track_window = (x, y, w, h)\n",
    "# 设置追踪的ROI窗口\n",
    "roi = frame[y:y+h, x:x+w]\n",
    "hsv_roi =  cv.cvtColor(roi, cv.COLOR_BGR2HSV)\n",
    "mask = cv.inRange(hsv_roi, np.array((0., 60.,32.)), np.array((180.,255.,255.)))\n",
    "roi_hist = cv.calcHist([hsv_roi],[0],mask,[180],[0,180])\n",
    "cv.normalize(roi_hist,roi_hist,0,255,cv.NORM_MINMAX)\n",
    "# 设置终止条件，可以是10次迭代，有可以至少移动1个像素\n",
    "term_crit = ( cv.TERM_CRITERIA_EPS | cv.TERM_CRITERIA_COUNT, 10, 1 )\n",
    "while(1):\n",
    "    ret, frame = capture.read()\n",
    "    if ret == True:\n",
    "        hsv = cv.cvtColor(frame, cv.COLOR_BGR2HSV)\n",
    "        dst = cv.calcBackProject([hsv],[0],roi_hist,[0,180],1)\n",
    "        # 应用camshift 到新位置\n",
    "        ret, track_window = cv.CamShift(dst, track_window, term_crit)\n",
    "        # # 在图像上画出来\n",
    "        # pts = cv.boxPoints(ret)\n",
    "        # pts = np.int0(pts)\n",
    "        # dest = cv.polylines(frame,[pts],True, 255,2)\n",
    "        ret_np = np.array(ret[:2]).astype(np.int32)\n",
    "        dest = cv.ellipse(frame, ret_np[0], ret_np[1], ret[2], 0, 360, (0, 255, 0))\n",
    "        cv.imshow('',dest)\n",
    "        k = cv.waitKey(30) & 0xff\n",
    "        if k == 27:\n",
    "            break\n",
    "    else:\n",
    "        break\n",
    "cv.destroyAllWindows()\n",
    "capture.release()"
   ]
  },
  {
   "cell_type": "code",
   "execution_count": null,
   "metadata": {},
   "outputs": [],
   "source": []
  }
 ],
 "metadata": {
  "kernelspec": {
   "display_name": "cv",
   "language": "python",
   "name": "python3"
  },
  "language_info": {
   "codemirror_mode": {
    "name": "ipython",
    "version": 3
   },
   "file_extension": ".py",
   "mimetype": "text/x-python",
   "name": "python",
   "nbconvert_exporter": "python",
   "pygments_lexer": "ipython3",
   "version": "3.8.16"
  },
  "orig_nbformat": 4,
  "vscode": {
   "interpreter": {
    "hash": "19c46a0102b4290bd83744c04de3d337d44821c1a861b3f55c480538c3baede0"
   }
  }
 },
 "nbformat": 4,
 "nbformat_minor": 2
}
