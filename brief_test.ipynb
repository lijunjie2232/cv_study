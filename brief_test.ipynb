{
 "cells": [
  {
   "cell_type": "code",
   "execution_count": 5,
   "metadata": {},
   "outputs": [],
   "source": [
    "import cv2 as cv\n",
    "import numpy as np"
   ]
  },
  {
   "cell_type": "code",
   "execution_count": 9,
   "metadata": {},
   "outputs": [],
   "source": [
    "img = cv.imread('./input/opencv.png')"
   ]
  },
  {
   "cell_type": "code",
   "execution_count": 10,
   "metadata": {},
   "outputs": [
    {
     "name": "stdout",
     "output_type": "stream",
     "text": [
      "32\n",
      "(63, 32)\n"
     ]
    }
   ],
   "source": [
    "# 初始化FAST检测器\n",
    "star = cv.xfeatures2d.StarDetector_create()\n",
    "# 初始化BRIEF提取器\n",
    "brief = cv.xfeatures2d.BriefDescriptorExtractor_create()\n",
    "# 找到STAR的关键点\n",
    "kp = star.detect(img,None)\n",
    "# 计算BRIEF的描述符\n",
    "kp, des = brief.compute(img, kp)\n",
    "print( brief.descriptorSize() )\n",
    "print( des.shape )"
   ]
  },
  {
   "cell_type": "code",
   "execution_count": 11,
   "metadata": {},
   "outputs": [
    {
     "data": {
      "text/plain": [
       "array([[ 94, 143, 176, ...,  67,  29,  40],\n",
       "       [ 74, 234, 197, ...,  40, 166, 208],\n",
       "       [ 79, 136, 144, ...,  48, 163, 208],\n",
       "       ...,\n",
       "       [196, 200,  71, ..., 202, 211,  67],\n",
       "       [ 67, 138, 144, ...,  49, 174, 148],\n",
       "       [ 17,   5,  40, ...,  85, 192, 104]], dtype=uint8)"
      ]
     },
     "execution_count": 11,
     "metadata": {},
     "output_type": "execute_result"
    }
   ],
   "source": [
    "des"
   ]
  }
 ],
 "metadata": {
  "kernelspec": {
   "display_name": "cv2",
   "language": "python",
   "name": "python3"
  },
  "language_info": {
   "codemirror_mode": {
    "name": "ipython",
    "version": 3
   },
   "file_extension": ".py",
   "mimetype": "text/x-python",
   "name": "python",
   "nbconvert_exporter": "python",
   "pygments_lexer": "ipython3",
   "version": "3.7.16"
  },
  "orig_nbformat": 4,
  "vscode": {
   "interpreter": {
    "hash": "fc9bef3d6a2b31ce17d601527b5a1d29b451ce6f5524517d5ae7756f920ef2de"
   }
  }
 },
 "nbformat": 4,
 "nbformat_minor": 2
}
