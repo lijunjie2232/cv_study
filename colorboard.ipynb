{
 "cells": [
  {
   "cell_type": "code",
   "execution_count": 1,
   "metadata": {},
   "outputs": [],
   "source": [
    "from utils import *\n"
   ]
  },
  {
   "cell_type": "code",
   "execution_count": 2,
   "metadata": {},
   "outputs": [],
   "source": [
    "def nothing(x):\n",
    "    pass"
   ]
  },
  {
   "cell_type": "code",
   "execution_count": null,
   "metadata": {},
   "outputs": [],
   "source": [
    "img = np.ones((500, 500, 3), np.uint8) * 255\n",
    "\n",
    "cv.namedWindow('image')\n",
    "cv.createTrackbar('R', 'image', 0, 255, nothing)\n",
    "cv.createTrackbar('G', 'image', 0, 255, nothing)\n",
    "cv.createTrackbar('B', 'image', 0, 255, nothing)\n",
    "cv.setTrackbarPos('R', 'image', 255)\n",
    "cv.setTrackbarPos('G', 'image', 255)\n",
    "cv.setTrackbarPos('B', 'image', 255)\n",
    "\n",
    "while(1):\n",
    "    cv.imshow('image', img)\n",
    "    k =  cv.waitKey(1)\n",
    "    if k == ord('q'):\n",
    "        break\n",
    "    elif k == ord('c'):\n",
    "        img[:] = 255\n",
    "        cv.setTrackbarPos('R', 'image', 255)\n",
    "        cv.setTrackbarPos('G', 'image', 255)\n",
    "        cv.setTrackbarPos('B', 'image', 255)\n",
    "    else:\n",
    "        r = cv.getTrackbarPos('R', 'image')\n",
    "        g = cv.getTrackbarPos('G', 'image')\n",
    "        b = cv.getTrackbarPos('B', 'image')\n",
    "        img[:] = [b,g,r]\n",
    "cv.destroyAllWindows()"
   ]
  }
 ],
 "metadata": {
  "kernelspec": {
   "display_name": "cv",
   "language": "python",
   "name": "python3"
  },
  "language_info": {
   "codemirror_mode": {
    "name": "ipython",
    "version": 3
   },
   "file_extension": ".py",
   "mimetype": "text/x-python",
   "name": "python",
   "nbconvert_exporter": "python",
   "pygments_lexer": "ipython3",
   "version": "3.8.16"
  },
  "orig_nbformat": 4
 },
 "nbformat": 4,
 "nbformat_minor": 2
}
