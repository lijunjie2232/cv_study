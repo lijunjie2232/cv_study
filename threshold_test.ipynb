{
 "cells": [
  {
   "cell_type": "code",
   "execution_count": null,
   "metadata": {},
   "outputs": [],
   "source": [
    "from utils import *"
   ]
  },
  {
   "cell_type": "code",
   "execution_count": null,
   "metadata": {},
   "outputs": [],
   "source": [
    "img = np.zeros((256, 256), np.uint8)\n",
    "for i in range(256):\n",
    "    img[i:i+1] = i\n",
    "img = img.T\n",
    "img = img.reshape((256, 256, 1))\n",
    "# saveImage(img, \"./input/gradient.png\", cvt=False)\n",
    "showImage_cv(img, cvt=False)\n",
    "# showImage(img)\n"
   ]
  },
  {
   "cell_type": "code",
   "execution_count": null,
   "metadata": {},
   "outputs": [],
   "source": [
    "for i in [\n",
    "    cv.THRESH_BINARY,\n",
    "    cv.THRESH_BINARY_INV,\n",
    "    cv.THRESH_TRUNC,\n",
    "    cv.THRESH_TOZERO,\n",
    "    cv.THRESH_TOZERO_INV,\n",
    "]:\n",
    "    ret, thresh = cv.threshold(img, 127, 255, i)\n",
    "    print(ret)\n",
    "    showImage_cv(thresh, str(i), cvt=False)"
   ]
  },
  {
   "cell_type": "code",
   "execution_count": null,
   "metadata": {},
   "outputs": [],
   "source": [
    "img = readImage(\"./input/test.png\").astype(np.uint8)\n",
    "showImage(img)"
   ]
  },
  {
   "cell_type": "code",
   "execution_count": null,
   "metadata": {},
   "outputs": [],
   "source": [
    "img_gray = cv.cvtColor(img, cv.COLOR_RGB2GRAY)\n",
    "showImage_cv(img_gray)"
   ]
  },
  {
   "cell_type": "code",
   "execution_count": null,
   "metadata": {},
   "outputs": [],
   "source": [
    "thresh = cv.adaptiveThreshold(img_gray, 255, cv.ADAPTIVE_THRESH_GAUSSIAN_C, cv.THRESH_BINARY, 11, 2)\n",
    "showImage_cv(thresh)"
   ]
  },
  {
   "attachments": {},
   "cell_type": "markdown",
   "metadata": {},
   "source": [
    "## Otus Binary"
   ]
  },
  {
   "cell_type": "code",
   "execution_count": null,
   "metadata": {},
   "outputs": [],
   "source": [
    "# 全局阈值\n",
    "ret,thresh = cv.threshold(img_gray,127,255,cv.THRESH_BINARY)\n",
    "print(ret)\n",
    "showImage_cv(\"\", thresh, cvt=False)\n"
   ]
  },
  {
   "cell_type": "code",
   "execution_count": null,
   "metadata": {},
   "outputs": [],
   "source": [
    "# Otsu阈值\n",
    "ret,thresh = cv.threshold(img_gray,0,255,cv.THRESH_BINARY+cv.THRESH_OTSU)\n",
    "print(ret)\n",
    "showImage_cv(thresh, cvt=False)\n"
   ]
  },
  {
   "cell_type": "code",
   "execution_count": null,
   "metadata": {},
   "outputs": [],
   "source": [
    "# 高斯滤波后再采用Otsu阈值\n",
    "blur = cv.GaussianBlur(img_gray,(5,5),0)\n",
    "ret,thresh = cv.threshold(blur,0,255,cv.THRESH_BINARY+cv.THRESH_OTSU)\n",
    "print(ret)\n",
    "showImage_cv(thresh, cvt=False)\n"
   ]
  },
  {
   "cell_type": "code",
   "execution_count": null,
   "metadata": {},
   "outputs": [],
   "source": [
    "blur = cv.GaussianBlur(img_gray, (5, 5), 0)\n",
    "\n",
    "# 寻找归一化直方图和对应的累积分布函数\n",
    "hist = cv.calcHist([blur], [0], None, [256], [0, 256])\n",
    "hist_norm = hist.ravel() / hist.max()\n",
    "Q = hist_norm.cumsum()\n",
    "bins = np.arange(256)\n",
    "fn_min = np.inf\n",
    "thresh = -1\n",
    "for i in range(1, 256):\n",
    "    p1,p2 = np.hsplit(hist_norm,[i]) # 概率\n",
    "    q1,q2 = Q[i],Q[255]-Q[i] # 对类求和\n",
    "    b1,b2 = np.hsplit(bins,[i]) # 权重\n",
    "    # 寻找均值和方差\n",
    "    m1,m2 = np.sum(p1*b1)/q1, np.sum(p2*b2)/q2\n",
    "    v1,v2 = np.sum(((b1-m1)**2)*p1)/q1,np.sum(((b2-m2)**2)*p2)/q2\n",
    "    # 计算最小化函数\n",
    "    fn = v1*q1 + v2*q2\n",
    "    if fn < fn_min:\n",
    "        fn_min = fn\n",
    "        thresh = i\n",
    "    \n",
    "ret, otsu = cv.threshold(blur, 0, 255, cv.THRESH_BINARY+cv.THRESH_OTSU)"
   ]
  },
  {
   "cell_type": "code",
   "execution_count": null,
   "metadata": {},
   "outputs": [],
   "source": [
    "ret, thresh\n",
    "showImage_cv(otsu)"
   ]
  },
  {
   "cell_type": "code",
   "execution_count": null,
   "metadata": {},
   "outputs": [],
   "source": []
  }
 ],
 "metadata": {
  "kernelspec": {
   "display_name": "cv",
   "language": "python",
   "name": "python3"
  },
  "language_info": {
   "codemirror_mode": {
    "name": "ipython",
    "version": 3
   },
   "file_extension": ".py",
   "mimetype": "text/x-python",
   "name": "python",
   "nbconvert_exporter": "python",
   "pygments_lexer": "ipython3",
   "version": "3.8.16"
  },
  "orig_nbformat": 4,
  "vscode": {
   "interpreter": {
    "hash": "19c46a0102b4290bd83744c04de3d337d44821c1a861b3f55c480538c3baede0"
   }
  }
 },
 "nbformat": 4,
 "nbformat_minor": 2
}
